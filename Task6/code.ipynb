{
  "nbformat": 4,
  "nbformat_minor": 0,
  "metadata": {
    "colab": {
      "name": "Task 6.ipynb",
      "provenance": []
    },
    "kernelspec": {
      "name": "python3",
      "display_name": "Python 3"
    },
    "language_info": {
      "name": "python"
    }
  },
  "cells": [
    {
      "cell_type": "code",
      "execution_count": 8,
      "metadata": {
        "colab": {
          "base_uri": "https://localhost:8080/"
        },
        "id": "XnostjIZvqy7",
        "outputId": "f8bf75ea-0bbf-483f-d741-0fb902363716"
      },
      "outputs": [
        {
          "output_type": "stream",
          "name": "stdout",
          "text": [
            "1Aaa3.5Maths2Bbb4.2Physics3Ccc7.62Chemistry4Ddd9.55Biology5Eee4.0Social6Fff7.6English7Ggg3.111Maths8Hhh9.99Physics9Iii1.23Civics\n"
          ]
        }
      ],
      "source": [
        "#Question 1\n",
        "import re\n",
        "a=open(\"onelinefile.txt\",'r')\n",
        "\n",
        "l=[]\n",
        "l[:0]=a\n",
        "\n",
        "for i in range(1,len(l)-1):\n",
        "        s=str(a[i-1]+a[i]+a[i+1])\n",
        "        #print(s)\n",
        "        if re.match(\"[a-zA-Z][0-9][a-zA-Z]\",s):\n",
        "            l.insert(i,\"\\n\")\n",
        "print(\",\".join(l))"
      ]
    },
    {
      "cell_type": "code",
      "source": [
        "#Question 2\n",
        "import pandas as pd\n",
        "import numpy as np\n",
        "import random\n",
        "\n",
        "\n",
        "\n",
        "\n",
        "missing_value_formats = [\"NA\",\"NaN\"]\n",
        "df = pd.read_csv(\"Q2-Dataset.csv\", na_values = missing_value_formats)\n",
        "print(df.head())\n",
        "def make_format(i):\n",
        "    if i is int:\n",
        "      return i \n",
        "    else:\n",
        "      return random.randint(0,1000)\n",
        "\n",
        "df['Alley'] = df['Alley'].map(make_format)\n",
        "print(df.head())"
      ],
      "metadata": {
        "colab": {
          "base_uri": "https://localhost:8080/"
        },
        "id": "n7TWmWJ4wUT-",
        "outputId": "da6797f4-cffe-437a-fc09-088688257796"
      },
      "execution_count": 7,
      "outputs": [
        {
          "output_type": "stream",
          "name": "stdout",
          "text": [
            "   Id  MSSubClass MSZoning  LotFrontage  LotArea Street Alley LotShape  \\\n",
            "0   1          60       RL         65.0     8450   Pave   NaN      Reg   \n",
            "1   2          20       RL         80.0     9600   Pave   NaN      Reg   \n",
            "2   3          60       RL         68.0    11250   Pave   NaN      IR1   \n",
            "3   4          70       RL         60.0     9550   Pave   NaN      IR1   \n",
            "4   5          60       RL         84.0    14260   Pave   NaN      IR1   \n",
            "\n",
            "  LandContour Utilities  ... MasVnrArea ExterQual ExterCond Foundation  \\\n",
            "0         Lvl    AllPub  ...        196        Gd        TA      PConc   \n",
            "1         Lvl    AllPub  ...          0        TA        TA     CBlock   \n",
            "2         Lvl    AllPub  ...        162        Gd        TA      PConc   \n",
            "3         Lvl    AllPub  ...          0        TA        TA     BrkTil   \n",
            "4         Lvl    AllPub  ...        350        Gd        TA      PConc   \n",
            "\n",
            "  BsmtQual BsmtCond BsmtExposure  BsmtFinType1  BsmtFinSF1  BsmtFinType2  \n",
            "0       Gd       TA           No           GLQ         706           Unf  \n",
            "1       Gd       TA           Gd           ALQ         978           Unf  \n",
            "2       Gd       TA           Mn           GLQ         486           Unf  \n",
            "3       TA       Gd           No           ALQ         216           Unf  \n",
            "4       Gd       TA           Av           GLQ         655           Unf  \n",
            "\n",
            "[5 rows x 36 columns]\n",
            "   Id  MSSubClass MSZoning  LotFrontage  LotArea Street  Alley LotShape  \\\n",
            "0   1          60       RL         65.0     8450   Pave    625      Reg   \n",
            "1   2          20       RL         80.0     9600   Pave    199      Reg   \n",
            "2   3          60       RL         68.0    11250   Pave    314      IR1   \n",
            "3   4          70       RL         60.0     9550   Pave    719      IR1   \n",
            "4   5          60       RL         84.0    14260   Pave    987      IR1   \n",
            "\n",
            "  LandContour Utilities  ... MasVnrArea ExterQual ExterCond Foundation  \\\n",
            "0         Lvl    AllPub  ...        196        Gd        TA      PConc   \n",
            "1         Lvl    AllPub  ...          0        TA        TA     CBlock   \n",
            "2         Lvl    AllPub  ...        162        Gd        TA      PConc   \n",
            "3         Lvl    AllPub  ...          0        TA        TA     BrkTil   \n",
            "4         Lvl    AllPub  ...        350        Gd        TA      PConc   \n",
            "\n",
            "  BsmtQual BsmtCond BsmtExposure  BsmtFinType1  BsmtFinSF1  BsmtFinType2  \n",
            "0       Gd       TA           No           GLQ         706           Unf  \n",
            "1       Gd       TA           Gd           ALQ         978           Unf  \n",
            "2       Gd       TA           Mn           GLQ         486           Unf  \n",
            "3       TA       Gd           No           ALQ         216           Unf  \n",
            "4       Gd       TA           Av           GLQ         655           Unf  \n",
            "\n",
            "[5 rows x 36 columns]\n"
          ]
        }
      ]
    },
    {
      "cell_type": "code",
      "source": [
        "#Question 3\n",
        "a=[]\n",
        "atleast=[]\n",
        "num=0\n",
        "with open(\"about.txt\", \"r\") as rf:\n",
        "  for line in rf:\n",
        "    a.extend(line.split())\n",
        "\n",
        "  for i in a:\n",
        "    if(len(i)>=6):\n",
        "      atleast.append(i)\n",
        "  \n",
        "  num=len(atleast)\n",
        "print(\"the words with atleast 6 letters are:\")\n",
        "print(atleast)\n",
        "print(\"total numbers of words :\",num)"
      ],
      "metadata": {
        "colab": {
          "base_uri": "https://localhost:8080/"
        },
        "id": "1bfSLvWmx-Bu",
        "outputId": "d82a4746-7ca9-4fe0-dc87-e01f7cc1c0fc"
      },
      "execution_count": 6,
      "outputs": [
        {
          "output_type": "stream",
          "name": "stdout",
          "text": [
            "the words with atleast 6 letters are:\n",
            "['Python', 'almost', 'aspect', 'scientific', 'computing.', 'America', 'Python', 'crunch', 'financial', 'Facebook', 'Python', 'library', 'Pandas', 'analysis.', 'libraries', 'available', 'perform', 'analysis', 'Python,', 'NumPy,', 'SciPy,', 'Pandas', 'Matplotlib.']\n",
            "total numbers of words : 23\n"
          ]
        }
      ]
    }
  ]
}