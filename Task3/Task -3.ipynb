{
  "nbformat": 4,
  "nbformat_minor": 0,
  "metadata": {
    "colab": {
      "name": "Untitled52.ipynb",
      "provenance": []
    },
    "kernelspec": {
      "name": "python3",
      "display_name": "Python 3"
    },
    "language_info": {
      "name": "python"
    }
  },
  "cells": [
    {
      "cell_type": "code",
      "execution_count": 30,
      "metadata": {
        "colab": {
          "base_uri": "https://localhost:8080/"
        },
        "id": "yuzQK5KiO-GH",
        "outputId": "83baa820-2399-4272-dc8c-b32deb980370"
      },
      "outputs": [
        {
          "output_type": "stream",
          "name": "stdout",
          "text": [
            "Input Vector: \n",
            "[10 11 12 13 14]\n",
            "\n",
            "Output Vector:\n",
            "[10.  0.  0.  0.  0.  0. 11.  0.  0.  0.  0.  0. 12.  0.  0.  0.  0.  0.\n",
            " 13.  0.  0.  0.  0.  0. 14.]\n"
          ]
        }
      ],
      "source": [
        "#Question 1: Consider the vector [10, 11, 12, 13, 14], how to build a new vector with 5 consecutive zeros interleaved between each value?\n",
        "\n",
        "import numpy as np\n",
        "vector = np.array([10,11,12,13,14])\n",
        "print(\"Input Vector: \")\n",
        "print(vector)\n",
        "No_of_Zeros = 5\n",
        "new_vector = np.zeros(len(vector) + (len(vector)-1)*(No_of_Zeros))\n",
        "new_vector[::No_of_Zeros+1] = vector\n",
        "print(\"\\nOutput Vector:\")\n",
        "print(new_vector)"
      ]
    },
    {
      "cell_type": "code",
      "source": [
        "# Question 2: Consider two random array A anb B, check if they are equal\n",
        "import numpy as np\n",
        "A1 = np.random.randint(0,2,6)  #Return random integers from low (inclusive) to high (exclusive)\n",
        "print(\"First array:\")\n",
        "print(A1)\n",
        "A2 = np.random.randint(0,2,6) #for taking random arrays(low,high,size of array)\n",
        "print(\"Second array:\")\n",
        "print(A2)\n",
        "print(\"Result\")\n",
        "array_equal = np.allclose(A1, A2)  #find if two arrays are element-wise equal within a tolerance\n",
        "print(array_equal)"
      ],
      "metadata": {
        "colab": {
          "base_uri": "https://localhost:8080/"
        },
        "id": "kNSp3PKZQ89x",
        "outputId": "5ba9714a-26b7-4a7a-d8dd-ff9aa14764b8"
      },
      "execution_count": 29,
      "outputs": [
        {
          "output_type": "stream",
          "name": "stdout",
          "text": [
            "First array:\n",
            "[0 0 1 0 0 1]\n",
            "Second array:\n",
            "[1 0 1 0 0 1]\n",
            "Result\n",
            "False\n"
          ]
        }
      ]
    },
    {
      "cell_type": "code",
      "source": [
        "#Question 3: What is the result of the following expression ?\n",
        "import numpy as np\n",
        "print(0 * np.nan)\n",
        "print(np.nan != np.nan)\n",
        "print(np.inf > np.nan)\n",
        "print(np.nan - np.nan)\n",
        "print(0.3 == 3 * 0.1) "
      ],
      "metadata": {
        "colab": {
          "base_uri": "https://localhost:8080/"
        },
        "id": "Kjdbq36JXNBw",
        "outputId": "69c57109-c694-4e2e-e9b1-5ce5b0b226a8"
      },
      "execution_count": 28,
      "outputs": [
        {
          "output_type": "stream",
          "name": "stdout",
          "text": [
            "nan\n",
            "True\n",
            "False\n",
            "nan\n",
            "False\n"
          ]
        }
      ]
    },
    {
      "cell_type": "code",
      "source": [
        "# Question 4: Convert the first character of each element in a series to uppercase?\n",
        "import pandas as pd\n",
        "ser = pd.Series(['amrita', 'school', 'of', 'engineering', 'chennai' , 'campus'])\n",
        "print(\"Original Series:\")\n",
        "print(ser)\n",
        "result = ser.map(lambda x: x[0].upper() + x[1:-1] + x[-1].lower())\n",
        "print(\"\\nAfter converting First character of each word to upper case:\")\n",
        "print(result)"
      ],
      "metadata": {
        "colab": {
          "base_uri": "https://localhost:8080/"
        },
        "id": "B7z-jWvLPafb",
        "outputId": "715f89c0-f87e-48ba-8cf3-b19dc008cae5"
      },
      "execution_count": 27,
      "outputs": [
        {
          "output_type": "stream",
          "name": "stdout",
          "text": [
            "Original Series:\n",
            "0         amrita\n",
            "1         school\n",
            "2             of\n",
            "3    engineering\n",
            "4        chennai\n",
            "5         campus\n",
            "dtype: object\n",
            "\n",
            "After converting First character of each word to upper case:\n",
            "0         Amrita\n",
            "1         School\n",
            "2             Of\n",
            "3    Engineering\n",
            "4        Chennai\n",
            "5         Campus\n",
            "dtype: object\n"
          ]
        }
      ]
    },
    {
      "cell_type": "code",
      "source": [
        "# Question 5: Do any two Exercises using Numpy\n",
        "# 1. addition of 2 numpy arrays\n",
        "import numpy as np\n",
        " \n",
        "A1 = np.array([4, 5, 6, 8])\n",
        "A2 = np.array([3, 4, 5, 6])\n",
        "   \n",
        "print (\"First array : \", A1)  \n",
        "print (\"Second array : \", A2)  \n",
        "   \n",
        "output_arr = np.add(A1, A2)  \n",
        "print (\"Array After Adding : \", output_arr)  \n",
        "\n",
        "# 4.Array datatype conversion\n",
        "print(\"\\nPrevious data type\")\n",
        "print(A1.dtype)\n",
        "print(A2.dtype)\n",
        "\n",
        "print(\"Converting Array Datatype\")\n",
        "# change the dtype to 'float64'\n",
        "A1 = A1.astype('float64')\n",
        "A2 = A2.astype('float64')\n",
        "\n",
        "print(\"\\nPrint the new datatype\")\n",
        "print(A1.dtype)\n",
        "print(A2.dtype)\n",
        "\n",
        "\n"
      ],
      "metadata": {
        "colab": {
          "base_uri": "https://localhost:8080/"
        },
        "id": "ZuNZwfYxikub",
        "outputId": "31b1369a-c58f-4ee8-8046-b2e141e63da3"
      },
      "execution_count": 26,
      "outputs": [
        {
          "output_type": "stream",
          "name": "stdout",
          "text": [
            "First array :  [4 5 6 8]\n",
            "Second array :  [3 4 5 6]\n",
            "Array After Adding :  [ 7  9 11 14]\n",
            "\n",
            "Previous data type\n",
            "int64\n",
            "int64\n",
            "Converting Array Datatype\n",
            "\n",
            "Print the new datatype\n",
            "float64\n",
            "float64\n"
          ]
        }
      ]
    }
  ]
}